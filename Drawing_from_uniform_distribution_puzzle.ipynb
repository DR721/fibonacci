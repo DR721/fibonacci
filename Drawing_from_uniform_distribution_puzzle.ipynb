{
  "nbformat": 4,
  "nbformat_minor": 0,
  "metadata": {
    "colab": {
      "provenance": [],
      "authorship_tag": "ABX9TyNSluDUCp0JBKDWkhPHjtZ8",
      "include_colab_link": true
    },
    "kernelspec": {
      "name": "python3",
      "display_name": "Python 3"
    },
    "language_info": {
      "name": "python"
    }
  },
  "cells": [
    {
      "cell_type": "markdown",
      "metadata": {
        "id": "view-in-github",
        "colab_type": "text"
      },
      "source": [
        "<a href=\"https://colab.research.google.com/github/DR721/fibonacci/blob/main/Drawing_from_uniform_distribution_puzzle.ipynb\" target=\"_parent\"><img src=\"https://colab.research.google.com/assets/colab-badge.svg\" alt=\"Open In Colab\"/></a>"
      ]
    },
    {
      "cell_type": "code",
      "execution_count": 4,
      "metadata": {
        "colab": {
          "base_uri": "https://localhost:8080/"
        },
        "id": "SOX1Lq_PlPOw",
        "outputId": "182c2fc6-16ea-473f-d87c-c56bb807eb7a"
      },
      "outputs": [
        {
          "output_type": "stream",
          "name": "stdout",
          "text": [
            "Final sum: 0.9841\n"
          ]
        }
      ],
      "source": [
        "import random\n",
        "import numpy as np\n",
        "\n",
        "def simulate_game(optimal_stopping_value, output=False):\n",
        "    total = 0.0\n",
        "    draws = 0\n",
        "\n",
        "    while True:\n",
        "        next_draw = random.uniform(0, 1)\n",
        "\n",
        "        # Check if adding the next draw would exceed 1\n",
        "        if total + next_draw > 1:\n",
        "          if output==True:\n",
        "            print(f\"Draw {draws + 1}: {next_draw:.4f} (would exceed 1, stop here)\")\n",
        "          break\n",
        "\n",
        "        # Optimal stopping strategy: stop if total is greater than input optimal\n",
        "        if total >= optimal_stopping_value:\n",
        "          if output==True:\n",
        "            print(f\"Stopping at draw {draws + 1}, total sum: {total:.4f}\")\n",
        "          break\n",
        "\n",
        "        # Add the draw to the total\n",
        "        total += next_draw\n",
        "        draws += 1\n",
        "        if output==True:\n",
        "          print(f\"Draw {draws}: {next_draw:.4f}, running total: {total:.4f}\")\n",
        "\n",
        "    return total\n",
        "\n",
        "# Running the simulation\n",
        "final_sum = simulate_game(0.5)\n",
        "print(f\"Final sum: {final_sum:.4f}\")"
      ]
    },
    {
      "cell_type": "code",
      "source": [
        "optimal_stopping_value_arun = 0.414\n",
        "optimal_stopping_value_diana = 2-np.exp(1)/2\n",
        "\n",
        "def test_optimals(n):\n",
        "  total_arun = 0\n",
        "  total_diana = 0\n",
        "  for i in range(n):\n",
        "    total_arun += simulate_game(optimal_stopping_value_arun)\n",
        "    total_diana += simulate_game(optimal_stopping_value_diana)\n",
        "  print(f\"Arun's average {total_arun/n}, Diana's average: {total_diana/n}\")\n",
        "  if total_arun > total_diana:\n",
        "    print(\"Arun has a higher total!\")\n",
        "  else:\n",
        "    print(\"Diana has a higher total!\")"
      ],
      "metadata": {
        "id": "qYc9-_2HmCFA"
      },
      "execution_count": 8,
      "outputs": []
    },
    {
      "cell_type": "code",
      "source": [
        "test_optimals(1000)"
      ],
      "metadata": {
        "colab": {
          "base_uri": "https://localhost:8080/"
        },
        "id": "ilBpeXsDnAzp",
        "outputId": "d177bb2f-8f46-49b3-f435-b9682e493b06"
      },
      "execution_count": 9,
      "outputs": [
        {
          "output_type": "stream",
          "name": "stdout",
          "text": [
            "Arun's average 0.6605348557086052, Diana's average: 0.7081843002871252\n",
            "Diana has a higher total!\n"
          ]
        }
      ]
    },
    {
      "cell_type": "code",
      "source": [],
      "metadata": {
        "id": "snGI780wngW4"
      },
      "execution_count": null,
      "outputs": []
    }
  ]
}